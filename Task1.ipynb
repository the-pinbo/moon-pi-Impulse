{
  "nbformat": 4,
  "nbformat_minor": 0,
  "metadata": {
    "colab": {
      "name": "Task1.ipynb",
      "provenance": [],
      "collapsed_sections": []
    },
    "kernelspec": {
      "name": "python3",
      "display_name": "Python 3"
    },
    "language_info": {
      "name": "python"
    }
  },
  "cells": [
    {
      "cell_type": "code",
      "execution_count": null,
      "metadata": {
        "id": "fTBsxSx6K_Xm"
      },
      "outputs": [],
      "source": [
        "import numpy as np"
      ]
    },
    {
      "cell_type": "code",
      "source": [
        "a = np.array([[0.5, 0.4, 0.8],[-0.7, 0.2, 0.7]])\n",
        "b= np.array([[0.9],[-0.5]])"
      ],
      "metadata": {
        "id": "jH12PwiwLNZg"
      },
      "execution_count": null,
      "outputs": []
    },
    {
      "cell_type": "code",
      "source": [
        "n = a.shape[1]\n",
        "l = a.shape[0]\n",
        "print(n)"
      ],
      "metadata": {
        "colab": {
          "base_uri": "https://localhost:8080/"
        },
        "id": "h9HZfSj7L7Y2",
        "outputId": "669158b2-917f-497b-a786-3b400d62b356"
      },
      "execution_count": null,
      "outputs": [
        {
          "output_type": "stream",
          "name": "stdout",
          "text": [
            "3\n"
          ]
        }
      ]
    },
    {
      "cell_type": "code",
      "source": [
        "ac=[]\n",
        "for i in range(0,n):\n",
        "  ac.append(a[:,i])\n",
        "\n",
        "print(ac)"
      ],
      "metadata": {
        "colab": {
          "base_uri": "https://localhost:8080/"
        },
        "id": "42xCrwL2L9Ac",
        "outputId": "84e7e292-e6bc-4ae0-99c0-e3c27185b814"
      },
      "execution_count": null,
      "outputs": [
        {
          "output_type": "stream",
          "name": "stdout",
          "text": [
            "[array([ 0.5, -0.7]), array([0.4, 0.2]), array([0.8, 0.7])]\n"
          ]
        }
      ]
    },
    {
      "cell_type": "code",
      "source": [
        "result=np.zeros(n)\n",
        "print(result)"
      ],
      "metadata": {
        "colab": {
          "base_uri": "https://localhost:8080/"
        },
        "id": "LI91kGxTeywH",
        "outputId": "c9603706-2663-4b48-c3c1-70a43d2b8a20"
      },
      "execution_count": null,
      "outputs": [
        {
          "output_type": "stream",
          "name": "stdout",
          "text": [
            "[0. 0. 0.]\n"
          ]
        }
      ]
    },
    {
      "cell_type": "code",
      "source": [
        "def iterator(A, bn):\n",
        "  phi = np.dot(A.T, bn)\n",
        "  max_index = np.argmax(phi, axis=0)\n",
        "  return max_index[0]"
      ],
      "metadata": {
        "id": "A4IpGQbfU6qo"
      },
      "execution_count": null,
      "outputs": []
    },
    {
      "cell_type": "code",
      "source": [
        "index_x = []"
      ],
      "metadata": {
        "id": "FiTjNMy3ldQa"
      },
      "execution_count": null,
      "outputs": []
    },
    {
      "cell_type": "code",
      "source": [
        "def least_square1(t, A, b):\n",
        "  inv = np.linalg.inv(np.dot(A[:,t].T,A[:,t]))\n",
        "  x1 = np.dot(A[:,t].T, b)\n",
        "  x = np.dot(inv,x1)\n",
        "  return x"
      ],
      "metadata": {
        "id": "KZVOC8cOcM74"
      },
      "execution_count": null,
      "outputs": []
    },
    {
      "cell_type": "code",
      "source": [
        "def least_square(t, A, b):\n",
        "  inv = np.linalg.inv(np.dot(A.T,A))\n",
        "  x1 = np.dot(A.T, b)\n",
        "  x = np.dot(inv,x1)\n",
        "  return x"
      ],
      "metadata": {
        "id": "4lfEyQS2u5E6"
      },
      "execution_count": null,
      "outputs": []
    },
    {
      "cell_type": "code",
      "source": [
        "def updation(t, b, A, x):\n",
        "  bn = b - np.dot(A,x)\n",
        "  #print(b, A[:, t])\n",
        "  return bn"
      ],
      "metadata": {
        "id": "qps0seUMa_IP"
      },
      "execution_count": null,
      "outputs": []
    },
    {
      "cell_type": "code",
      "source": [
        "r1 = b\n"
      ],
      "metadata": {
        "id": "WWmIMdGvigub"
      },
      "execution_count": null,
      "outputs": []
    },
    {
      "cell_type": "code",
      "source": [
        "j = iterator(a, r1)\n",
        "print(j)\n",
        "i1=j\n",
        "agu = a[:, j].reshape((2,1))\n",
        "x = least_square(j, agu, b)\n",
        "print(x)\n",
        "r1 = updation(j,b,agu, x)\n",
        "print(r1)"
      ],
      "metadata": {
        "colab": {
          "base_uri": "https://localhost:8080/"
        },
        "id": "skPfm96xrHzN",
        "outputId": "1c4683a1-ef1e-4155-e70c-1e93d05a7860"
      },
      "execution_count": null,
      "outputs": [
        {
          "output_type": "stream",
          "name": "stdout",
          "text": [
            "0\n",
            "[[1.08108108]]\n",
            "[[0.35945946]\n",
            " [0.25675676]]\n"
          ]
        }
      ]
    },
    {
      "cell_type": "code",
      "source": [
        "print(a)"
      ],
      "metadata": {
        "colab": {
          "base_uri": "https://localhost:8080/"
        },
        "id": "ABAz_BTh2Tik",
        "outputId": "2a4b9a53-0bac-4d63-9079-b90b145066a3"
      },
      "execution_count": null,
      "outputs": [
        {
          "output_type": "stream",
          "name": "stdout",
          "text": [
            "[[ 0.5  0.4  0.8]\n",
            " [-0.7  0.2  0.7]]\n"
          ]
        }
      ]
    },
    {
      "cell_type": "code",
      "source": [
        "index_x=[i1]\n",
        "while (r1 != 0).all():\n",
        "  j = iterator(a, r1)\n",
        "  aq = a[:, j].reshape((2,1))\n",
        "  agu =  np.concatenate((aq, agu), axis=1)\n",
        "  x = least_square(j, agu, b)\n",
        "  index_x.append(j)\n",
        "  r1 = updation(j,b,agu, x)"
      ],
      "metadata": {
        "id": "5RoXqxt-gA7m"
      },
      "execution_count": null,
      "outputs": []
    },
    {
      "cell_type": "code",
      "source": [
        "print(x)"
      ],
      "metadata": {
        "id": "ZKv6Kakqc-Av",
        "colab": {
          "base_uri": "https://localhost:8080/"
        },
        "outputId": "d31dcdfe-260c-491b-dfed-634ec34083a4"
      },
      "execution_count": null,
      "outputs": [
        {
          "output_type": "stream",
          "name": "stdout",
          "text": [
            "[[0.41758242]\n",
            " [1.13186813]]\n"
          ]
        }
      ]
    },
    {
      "cell_type": "code",
      "source": [
        "print(index_x)\n",
        "print(x[1]*0.5+x[0]*0.8)"
      ],
      "metadata": {
        "colab": {
          "base_uri": "https://localhost:8080/"
        },
        "id": "7Uf6pHyRjZ4L",
        "outputId": "04a18306-8028-4391-ff9b-6bab7f7a8f85"
      },
      "execution_count": null,
      "outputs": [
        {
          "output_type": "stream",
          "name": "stdout",
          "text": [
            "[0, 2]\n",
            "[0.9]\n"
          ]
        }
      ]
    },
    {
      "cell_type": "code",
      "source": [
        "index_x.reverse()"
      ],
      "metadata": {
        "id": "MC4G8lNN_rj-"
      },
      "execution_count": null,
      "outputs": []
    },
    {
      "cell_type": "code",
      "source": [
        "res = np.zeros((n,1))\n",
        "for i,j in index_x, range(x.shape[0]):\n",
        "    res[i]=x[j]\n",
        "print(res)"
      ],
      "metadata": {
        "colab": {
          "base_uri": "https://localhost:8080/"
        },
        "id": "zjQljJO1kKyr",
        "outputId": "2aae246a-6523-4f06-fe01-4cd596a8e21f"
      },
      "execution_count": null,
      "outputs": [
        {
          "output_type": "stream",
          "name": "stdout",
          "text": [
            "[[1.13186813]\n",
            " [0.        ]\n",
            " [0.41758242]]\n"
          ]
        }
      ]
    }
  ]
}