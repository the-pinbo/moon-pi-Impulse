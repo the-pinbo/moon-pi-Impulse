{
  "nbformat": 4,
  "nbformat_minor": 0,
  "metadata": {
    "colab": {
      "name": "Task1.ipynb",
      "provenance": [],
      "collapsed_sections": []
    },
    "kernelspec": {
      "name": "python3",
      "display_name": "Python 3"
    },
    "language_info": {
      "name": "python"
    }
  },
  "cells": [
    {
      "cell_type": "code",
      "execution_count": null,
      "metadata": {
        "id": "fTBsxSx6K_Xm"
      },
      "outputs": [],
      "source": [
        "import numpy as np"
      ]
    },
    {
      "cell_type": "markdown",
      "source": [
        "Calling both the parameters"
      ],
      "metadata": {
        "id": "pQKqhWzNTCmA"
      }
    },
    {
      "cell_type": "code",
      "source": [
        "a = np.array([[0.5, 0.4, 0.8],[-0.7, 0.2, 0.7]])\n",
        "b= np.array([[0.9],[-0.5]])"
      ],
      "metadata": {
        "id": "jH12PwiwLNZg"
      },
      "execution_count": null,
      "outputs": []
    },
    {
      "cell_type": "code",
      "source": [
        "n = a.shape[1] #no. of coloumns\n",
        "l = a.shape[0] # no of rows"
      ],
      "metadata": {
        "id": "h9HZfSj7L7Y2"
      },
      "execution_count": null,
      "outputs": []
    },
    {
      "cell_type": "code",
      "source": [
        "result=np.zeros(n)\n",
        "print(result)"
      ],
      "metadata": {
        "colab": {
          "base_uri": "https://localhost:8080/"
        },
        "id": "LI91kGxTeywH",
        "outputId": "6e3ec9c0-49c4-48b7-b9b1-1ea5f4ad0666"
      },
      "execution_count": null,
      "outputs": [
        {
          "output_type": "stream",
          "name": "stdout",
          "text": [
            "[0. 0. 0.]\n"
          ]
        }
      ]
    },
    {
      "cell_type": "markdown",
      "source": [
        "Function to find the most related coloumn to b"
      ],
      "metadata": {
        "id": "bcA1A3BRTOs9"
      }
    },
    {
      "cell_type": "code",
      "source": [
        "def iterator(A, bn):\n",
        "  phi = np.dot(A.T, bn)\n",
        "  max_index = np.argmax(phi, axis=0)\n",
        "  return max_index[0]"
      ],
      "metadata": {
        "id": "A4IpGQbfU6qo"
      },
      "execution_count": null,
      "outputs": []
    },
    {
      "cell_type": "markdown",
      "source": [
        "Function to find least square "
      ],
      "metadata": {
        "id": "liHeumVjTUZT"
      }
    },
    {
      "cell_type": "code",
      "source": [
        "def least_square(t, A, b):\n",
        "  inv = np.linalg.inv(np.dot(A.T,A))\n",
        "  x1 = np.dot(A.T, b)\n",
        "  x = np.dot(inv,x1)\n",
        "  return x"
      ],
      "metadata": {
        "id": "4lfEyQS2u5E6"
      },
      "execution_count": null,
      "outputs": []
    },
    {
      "cell_type": "markdown",
      "source": [
        "Finding the residual function"
      ],
      "metadata": {
        "id": "QC7EIOgdTjmM"
      }
    },
    {
      "cell_type": "code",
      "source": [
        "def updation(t, b, A, x):\n",
        "  bn = b - np.dot(A,x)\n",
        "  #print(b, A[:, t])\n",
        "  return bn"
      ],
      "metadata": {
        "id": "qps0seUMa_IP"
      },
      "execution_count": null,
      "outputs": []
    },
    {
      "cell_type": "markdown",
      "source": [
        "Initialising few variables"
      ],
      "metadata": {
        "id": "P5svL5EZTnL3"
      }
    },
    {
      "cell_type": "code",
      "source": [
        "r1 = b\n",
        "index_x = []"
      ],
      "metadata": {
        "id": "WWmIMdGvigub"
      },
      "execution_count": null,
      "outputs": []
    },
    {
      "cell_type": "markdown",
      "source": [
        "Doing the first iteration outside the loop to simplify task"
      ],
      "metadata": {
        "id": "EE_4q8GQTxoW"
      }
    },
    {
      "cell_type": "code",
      "source": [
        "j = iterator(a, r1)\n",
        "print(j)\n",
        "i1=j\n",
        "agu = a[:, j].reshape((2,1))\n",
        "x = least_square(j, agu, b)\n",
        "print(x)\n",
        "r1 = updation(j,b,agu, x)\n",
        "print(r1)"
      ],
      "metadata": {
        "colab": {
          "base_uri": "https://localhost:8080/"
        },
        "id": "skPfm96xrHzN",
        "outputId": "09e6f2a7-83a4-448c-b994-ec69252679b4"
      },
      "execution_count": null,
      "outputs": [
        {
          "output_type": "stream",
          "name": "stdout",
          "text": [
            "0\n",
            "[[1.08108108]]\n",
            "[[0.35945946]\n",
            " [0.25675676]]\n"
          ]
        }
      ]
    },
    {
      "cell_type": "markdown",
      "source": [
        "Multiple iterations to get the weights"
      ],
      "metadata": {
        "id": "5ptS9rXCT2sX"
      }
    },
    {
      "cell_type": "code",
      "source": [
        "index_x=[i1]\n",
        "while (r1 != 0).all():\n",
        "  j = iterator(a, r1)\n",
        "  aq = a[:, j].reshape((2,1))\n",
        "  agu =  np.concatenate((aq, agu), axis=1)\n",
        "  x = least_square(j, agu, b)\n",
        "  index_x.append(j)\n",
        "  r1 = updation(j,b,agu, x)"
      ],
      "metadata": {
        "id": "5RoXqxt-gA7m"
      },
      "execution_count": null,
      "outputs": []
    },
    {
      "cell_type": "markdown",
      "source": [
        "Printing the weights"
      ],
      "metadata": {
        "id": "8ubgowubT62o"
      }
    },
    {
      "cell_type": "code",
      "source": [
        "print(x)"
      ],
      "metadata": {
        "id": "ZKv6Kakqc-Av",
        "colab": {
          "base_uri": "https://localhost:8080/"
        },
        "outputId": "10e47444-dfe9-405e-9557-9379a98e95ce"
      },
      "execution_count": null,
      "outputs": [
        {
          "output_type": "stream",
          "name": "stdout",
          "text": [
            "[[0.41758242]\n",
            " [1.13186813]]\n"
          ]
        }
      ]
    },
    {
      "cell_type": "markdown",
      "source": [
        "Checking the right value"
      ],
      "metadata": {
        "id": "jjDrutmiT985"
      }
    },
    {
      "cell_type": "code",
      "source": [
        "print(index_x)\n",
        "print(x[1]*0.5+x[0]*0.8)\n",
        "print(x[1]*-0.7+x[0]*0.7)"
      ],
      "metadata": {
        "colab": {
          "base_uri": "https://localhost:8080/"
        },
        "id": "7Uf6pHyRjZ4L",
        "outputId": "1edd359a-f488-4611-8d46-85123a5e705e"
      },
      "execution_count": null,
      "outputs": [
        {
          "output_type": "stream",
          "name": "stdout",
          "text": [
            "[0, 2]\n",
            "[0.9]\n",
            "[-0.5]\n"
          ]
        }
      ]
    },
    {
      "cell_type": "code",
      "source": [
        "index_x.reverse()"
      ],
      "metadata": {
        "id": "MC4G8lNN_rj-"
      },
      "execution_count": null,
      "outputs": []
    },
    {
      "cell_type": "markdown",
      "source": [
        "Final result display"
      ],
      "metadata": {
        "id": "QK74qBUEUASI"
      }
    },
    {
      "cell_type": "code",
      "source": [
        "res = np.zeros((n,1))\n",
        "for i,j in index_x, range(x.shape[0]):\n",
        "    res[i]=x[j]\n",
        "print(res)"
      ],
      "metadata": {
        "colab": {
          "base_uri": "https://localhost:8080/"
        },
        "id": "zjQljJO1kKyr",
        "outputId": "9fa98165-2879-477d-c6cb-bc2b744682b2"
      },
      "execution_count": null,
      "outputs": [
        {
          "output_type": "stream",
          "name": "stdout",
          "text": [
            "[[1.13186813]\n",
            " [0.        ]\n",
            " [0.41758242]]\n"
          ]
        }
      ]
    }
  ]
}